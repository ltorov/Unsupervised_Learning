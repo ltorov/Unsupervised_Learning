{
 "cells": [
  {
   "cell_type": "code",
   "execution_count": 22,
   "metadata": {},
   "outputs": [],
   "source": [
    "import numpy as np\n",
    "import matplotlib.pyplot as plt\n",
    "\n",
    "from sklearn.model_selection import train_test_split\n",
    "from sklearn.svm import SVC\n",
    "from sklearn.metrics import accuracy_score"
   ]
  },
  {
   "cell_type": "code",
   "execution_count": 58,
   "metadata": {},
   "outputs": [],
   "source": [
    "np.random.seed(12121)\n",
    "mu_1 = 0.5\n",
    "sigma_1 = 0.2\n",
    "\n",
    "mu_2 = 0.2\n",
    "sigma_2 = 0.4\n",
    "\n",
    "n = 50\n",
    "N = 100\n",
    "q = 2\n",
    "\n",
    "def A_q(q):\n",
    "    if q == 1:\n",
    "        return np.sqrt(2*np.pi)\n",
    "    elif q > 1 and q <3:\n",
    "         return np.sqrt((3-q)/(q-1)) * np.random.beta((3-q)/(2*(q-1)), 1/2)\n",
    "\n",
    "\n",
    "def q_gaussian(x, q, mu, sigma):\n",
    "    \"\"\" \n",
    "    Generate random values following a q-Gaussian distribution\n",
    "    \"\"\"\n",
    "    A = A_q(q)\n",
    "    xi = - ((x-mu)**2/(3-q)*sigma**2)\n",
    "    exp_xi = (1+ (1-q)*xi)**(1/(1-q))\n",
    "    return 1/(A) * exp_xi\n",
    "\n",
    "def mu_hat(a):\n",
    "    n = len(a)\n",
    "    return np.sum(a)/n\n",
    "\n",
    "def sigma_hat(a, mu_hat):\n",
    "    n = len(a)\n",
    "    return (1/(n-1))* np.sum([(ai -mu_hat)**2 for ai in a])\n",
    "\n",
    "x = np.random.uniform(0,1,n)\n",
    "\n",
    "\n",
    "F_1 = np.zeros((N,2))\n",
    "F_2 = np.zeros((N,2))\n",
    "\n",
    "\n",
    "for i in range(N):\n",
    "    a = q_gaussian(x, q, mu_1, sigma_1)\n",
    "    mu_hat_1 = mu_hat(a)\n",
    "    sigma_hat_1 = sigma_hat(a, mu_hat_1)\n",
    "    F_1 [i,:] = [mu_hat_1, sigma_hat_1]\n",
    "\n",
    "    b = q_gaussian(x, q, mu_2, sigma_2)\n",
    "\n",
    "    mu_hat_2 = mu_hat(b)\n",
    "    sigma_hat_2 = sigma_hat(b, mu_hat_2)\n",
    "    F_2 [i,:] = [mu_hat_2, sigma_hat_2]\n",
    "\n",
    "\n"
   ]
  },
  {
   "cell_type": "code",
   "execution_count": 65,
   "metadata": {},
   "outputs": [
    {
     "data": {
      "image/png": "[encoded data removed]",
      "text/plain": [
       "<Figure size 640x480 with 1 Axes>"
      ]
     },
     "metadata": {},
     "output_type": "display_data"
    }
   ],
   "source": [
    "# Extract x and y coordinates from each array\n",
    "x1, y1 = F_1[:, 0], F_1[:, 1]\n",
    "x2, y2 =F_2[:, 0],F_2[:, 1]\n",
    "\n",
    "# Create the plot\n",
    "plt.scatter(x1, y1, label='Array 1', color='blue', marker='o')\n",
    "plt.scatter(x2, y2, label='Array 2', color='red', marker='x')\n",
    "\n",
    "# Add labels and legend\n",
    "plt.xlabel('X-axis')\n",
    "plt.ylabel('Y-axis')\n",
    "plt.legend()\n",
    "\n",
    "# Show the plot\n",
    "plt.show()"
   ]
  },
  {
   "cell_type": "code",
   "execution_count": null,
   "metadata": {},
   "outputs": [],
   "source": [
    "def diffusion_kernel(x, y):\n",
    "    degree = 3  # You can adjust this as needed\n",
    "    return (np.dot(x, y) + 1) ** degree\n",
    "\n",
    "\n"
   ]
  },
  {
   "cell_type": "code",
   "execution_count": null,
   "metadata": {},
   "outputs": [],
   "source": [
    "X_train, X_test, y_train, y_test = train_test_split(X, y, test_size=0.2, random_state=42)\n"
   ]
  },
  {
   "cell_type": "code",
   "execution_count": null,
   "metadata": {},
   "outputs": [],
   "source": [
    "svm = SVC(kernel=diffusion_kernel, C=1.0)  # You can adjust the hyperparameters as needed\n",
    "svm.fit(X_train, y_train)\n"
   ]
  },
  {
   "cell_type": "code",
   "execution_count": 25,
   "metadata": {},
   "outputs": [
    {
     "ename": "NameError",
     "evalue": "name 'svm' is not defined",
     "output_type": "error",
     "traceback": [
      "\u001b[0;31m---------------------------------------------------------------------------\u001b[0m",
      "\u001b[0;31mNameError\u001b[0m                                 Traceback (most recent call last)",
      "\u001b[1;32m/Users/luisatoro/Desktop/Github/Unsupervised_Learning/SVM.ipynb Cell 6\u001b[0m line \u001b[0;36m1\n\u001b[0;32m----> <a href='vscode-notebook-cell:/Users/luisatoro/Desktop/Github/Unsupervised_Learning/SVM.ipynb#W5sZmlsZQ%3D%3D?line=0'>1</a>\u001b[0m y_pred \u001b[39m=\u001b[39m svm\u001b[39m.\u001b[39mpredict(X_test)\n\u001b[1;32m      <a href='vscode-notebook-cell:/Users/luisatoro/Desktop/Github/Unsupervised_Learning/SVM.ipynb#W5sZmlsZQ%3D%3D?line=1'>2</a>\u001b[0m accuracy \u001b[39m=\u001b[39m accuracy_score(y_test, y_pred)\n\u001b[1;32m      <a href='vscode-notebook-cell:/Users/luisatoro/Desktop/Github/Unsupervised_Learning/SVM.ipynb#W5sZmlsZQ%3D%3D?line=2'>3</a>\u001b[0m \u001b[39mprint\u001b[39m(\u001b[39mf\u001b[39m\u001b[39m\"\u001b[39m\u001b[39mAccuracy: \u001b[39m\u001b[39m{\u001b[39;00maccuracy\u001b[39m}\u001b[39;00m\u001b[39m\"\u001b[39m)\n",
      "\u001b[0;31mNameError\u001b[0m: name 'svm' is not defined"
     ]
    }
   ],
   "source": [
    "y_pred = svm.predict(X_test)\n",
    "accuracy = accuracy_score(y_test, y_pred)\n",
    "print(f\"Accuracy: {accuracy}\")\n"
   ]
  }
 ],
 "metadata": {
  "kernelspec": {
   "display_name": "Python 3",
   "language": "python",
   "name": "python3"
  },
  "language_info": {
   "codemirror_mode": {
    "name": "ipython",
    "version": 3
   },
   "file_extension": ".py",
   "mimetype": "text/x-python",
   "name": "python",
   "nbconvert_exporter": "python",
   "pygments_lexer": "ipython3",
   "version": "3.11.2"
  }
 },
 "nbformat": 4,
 "nbformat_minor": 2
}
